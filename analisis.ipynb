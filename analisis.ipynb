{
 "cells": [
  {
   "cell_type": "code",
   "execution_count": 16,
   "metadata": {
    "vscode": {
     "languageId": "r"
    }
   },
   "outputs": [],
   "source": [
    "library(readr)\n",
    "library(ggplot2)\n",
    "library(dplyr)\n",
    "library(graphics)"
   ]
  },
  {
   "cell_type": "code",
   "execution_count": 17,
   "metadata": {
    "vscode": {
     "languageId": "r"
    }
   },
   "outputs": [],
   "source": [
    "# funciones\n",
    "mode <- function(x) {\n",
    "   return(as.numeric(names(which.max(table(x)))))\n",
    "}"
   ]
  },
  {
   "cell_type": "code",
   "execution_count": 18,
   "metadata": {
    "vscode": {
     "languageId": "r"
    }
   },
   "outputs": [
    {
     "name": "stderr",
     "output_type": "stream",
     "text": [
      "\u001b[1m\u001b[22mNew names:\n",
      "\u001b[36m•\u001b[39m `` -> `...2`\n",
      "\u001b[1mRows: \u001b[22m\u001b[34m201\u001b[39m \u001b[1mColumns: \u001b[22m\u001b[34m18\u001b[39m\n",
      "\u001b[36m──\u001b[39m \u001b[1mColumn specification\u001b[22m \u001b[36m────────────────────────────────────────────────────────\u001b[39m\n",
      "\u001b[1mDelimiter:\u001b[22m \",\"\n",
      "\u001b[31mchr\u001b[39m (9): Marca temporal, Nombres:, Apellidos:, Sexo:, Carrera:, Lugares frec...\n",
      "\u001b[32mdbl\u001b[39m (8): Código:, Edad:, Ciclo actual:, ¿Cuantas horas a la semana usas esto...\n",
      "\u001b[33mlgl\u001b[39m (1): ...2\n",
      "\n",
      "\u001b[36mℹ\u001b[39m Use `spec()` to retrieve the full column specification for this data.\n",
      "\u001b[36mℹ\u001b[39m Specify the column types or set `show_col_types = FALSE` to quiet this message.\n"
     ]
    }
   ],
   "source": [
    "# leemos la data\n",
    "datos<-read_csv(\"importancia.csv\")"
   ]
  },
  {
   "cell_type": "code",
   "execution_count": 19,
   "metadata": {
    "vscode": {
     "languageId": "r"
    }
   },
   "outputs": [
    {
     "data": {
      "text/html": [
       "<style>\n",
       ".list-inline {list-style: none; margin:0; padding: 0}\n",
       ".list-inline>li {display: inline-block}\n",
       ".list-inline>li:not(:last-child)::after {content: \"\\00b7\"; padding: 0 .5ex}\n",
       "</style>\n",
       "<ol class=list-inline><li>'nombre'</li><li>'apellido'</li><li>'codigo'</li><li>'edad'</li><li>'sexo'</li><li>'ciclo'</li><li>'carrera'</li><li>'lugares'</li><li>'horasS'</li><li>'accesibilidad'</li><li>'dias'</li><li>'comodidad'</li><li>'incomodidad'</li><li>'aumentos'</li><li>'concentracion'</li><li>'apoyo'</li></ol>\n"
      ],
      "text/latex": [
       "\\begin{enumerate*}\n",
       "\\item 'nombre'\n",
       "\\item 'apellido'\n",
       "\\item 'codigo'\n",
       "\\item 'edad'\n",
       "\\item 'sexo'\n",
       "\\item 'ciclo'\n",
       "\\item 'carrera'\n",
       "\\item 'lugares'\n",
       "\\item 'horasS'\n",
       "\\item 'accesibilidad'\n",
       "\\item 'dias'\n",
       "\\item 'comodidad'\n",
       "\\item 'incomodidad'\n",
       "\\item 'aumentos'\n",
       "\\item 'concentracion'\n",
       "\\item 'apoyo'\n",
       "\\end{enumerate*}\n"
      ],
      "text/markdown": [
       "1. 'nombre'\n",
       "2. 'apellido'\n",
       "3. 'codigo'\n",
       "4. 'edad'\n",
       "5. 'sexo'\n",
       "6. 'ciclo'\n",
       "7. 'carrera'\n",
       "8. 'lugares'\n",
       "9. 'horasS'\n",
       "10. 'accesibilidad'\n",
       "11. 'dias'\n",
       "12. 'comodidad'\n",
       "13. 'incomodidad'\n",
       "14. 'aumentos'\n",
       "15. 'concentracion'\n",
       "16. 'apoyo'\n",
       "\n",
       "\n"
      ],
      "text/plain": [
       " [1] \"nombre\"        \"apellido\"      \"codigo\"        \"edad\"         \n",
       " [5] \"sexo\"          \"ciclo\"         \"carrera\"       \"lugares\"      \n",
       " [9] \"horasS\"        \"accesibilidad\" \"dias\"          \"comodidad\"    \n",
       "[13] \"incomodidad\"   \"aumentos\"      \"concentracion\" \"apoyo\"        "
      ]
     },
     "metadata": {},
     "output_type": "display_data"
    }
   ],
   "source": [
    "# renombrando los encabezados\n",
    "colnames(datos)[3:18]<- c(\"nombre\" , \"apellido\" , \"codigo\" , \"edad\" , \"sexo\" , \"ciclo\" , \"carrera\" , \"lugares\" , \"horasS\" , \"accesibilidad\" , \"dias\" , \"comodidad\" , \"incomodidad\" , \"aumentos\" , \"concentracion\" , \"apoyo\")\n",
    "datos1<-datos[,-1]\n",
    "datos<-datos1[,-1]\n",
    "colnames(datos)\n"
   ]
  },
  {
   "cell_type": "code",
   "execution_count": 20,
   "metadata": {
    "vscode": {
     "languageId": "r"
    }
   },
   "outputs": [
    {
     "data": {
      "text/html": [
       "<style>\n",
       ".list-inline {list-style: none; margin:0; padding: 0}\n",
       ".list-inline>li {display: inline-block}\n",
       ".list-inline>li:not(:last-child)::after {content: \"\\00b7\"; padding: 0 .5ex}\n",
       "</style>\n",
       "<ol class=list-inline><li>'Mecan'</li><li>'Mecatr'</li><li>'Indus'</li><li>'Energ'</li><li>'Quim'</li><li>'Bioing'</li><li>'Civil'</li><li>'CS'</li><li>'Elec'</li><li>'Amb'</li><li>'Admin'</li><li>'DS'</li></ol>\n"
      ],
      "text/latex": [
       "\\begin{enumerate*}\n",
       "\\item 'Mecan'\n",
       "\\item 'Mecatr'\n",
       "\\item 'Indus'\n",
       "\\item 'Energ'\n",
       "\\item 'Quim'\n",
       "\\item 'Bioing'\n",
       "\\item 'Civil'\n",
       "\\item 'CS'\n",
       "\\item 'Elec'\n",
       "\\item 'Amb'\n",
       "\\item 'Admin'\n",
       "\\item 'DS'\n",
       "\\end{enumerate*}\n"
      ],
      "text/markdown": [
       "1. 'Mecan'\n",
       "2. 'Mecatr'\n",
       "3. 'Indus'\n",
       "4. 'Energ'\n",
       "5. 'Quim'\n",
       "6. 'Bioing'\n",
       "7. 'Civil'\n",
       "8. 'CS'\n",
       "9. 'Elec'\n",
       "10. 'Amb'\n",
       "11. 'Admin'\n",
       "12. 'DS'\n",
       "\n",
       "\n"
      ],
      "text/plain": [
       " [1] \"Mecan\"  \"Mecatr\" \"Indus\"  \"Energ\"  \"Quim\"   \"Bioing\" \"Civil\"  \"CS\"    \n",
       " [9] \"Elec\"   \"Amb\"    \"Admin\"  \"DS\"    "
      ]
     },
     "metadata": {},
     "output_type": "display_data"
    }
   ],
   "source": [
    "#renombrando las carreras\n",
    "carreras <- c(unique(datos$carrera))\n",
    "newcarreras <- c(\"Mecan\", \"Mecatr\", \"Indus\", \"Energ\", \"Quim\", \"Bioing\", \"Civil\", \"CS\", \"Elec\", \"Amb\", \"Admin\", \"DS\")\n",
    "it <- 1\n",
    "for (carr in carreras) {\n",
    "    datos$carrera[datos$carrera == carr] <- newcarreras[it]\n",
    "    it <- it +1\n",
    "}\n",
    "unique(datos$carrera)"
   ]
  },
  {
   "cell_type": "code",
   "execution_count": 21,
   "metadata": {
    "vscode": {
     "languageId": "r"
    }
   },
   "outputs": [
    {
     "data": {
      "text/html": [
       "0"
      ],
      "text/latex": [
       "0"
      ],
      "text/markdown": [
       "0"
      ],
      "text/plain": [
       "[1] 0"
      ]
     },
     "metadata": {},
     "output_type": "display_data"
    }
   ],
   "source": [
    "sum(is.na(datos))\n",
    "# vemos que ahi no hay nulos"
   ]
  },
  {
   "cell_type": "code",
   "execution_count": 22,
   "metadata": {
    "vscode": {
     "languageId": "r"
    }
   },
   "outputs": [
    {
     "name": "stdout",
     "output_type": "stream",
     "text": [
      "201 \n",
      "16"
     ]
    }
   ],
   "source": [
    "# cantidad de variables y observaciones\n",
    "cat(nrow(datos), \"\\n\")\n",
    "cat(ncol(datos))"
   ]
  },
  {
   "cell_type": "markdown",
   "metadata": {},
   "source": [
    "### **Variables Numericas**"
   ]
  },
  {
   "cell_type": "markdown",
   "metadata": {},
   "source": [
    "**Edad**"
   ]
  },
  {
   "cell_type": "code",
   "execution_count": 23,
   "metadata": {
    "vscode": {
     "languageId": "r"
    }
   },
   "outputs": [
    {
     "data": {
      "image/png": "[encoded data removed]",
      "text/plain": [
       "plot without title"
      ]
     },
     "metadata": {
      "image/png": {
       "height": 420,
       "width": 420
      }
     },
     "output_type": "display_data"
    }
   ],
   "source": [
    "barplot(table(datos$edad))"
   ]
  },
  {
   "cell_type": "code",
   "execution_count": 24,
   "metadata": {
    "vscode": {
     "languageId": "r"
    }
   },
   "outputs": [
    {
     "data": {
      "image/png": "[encoded data removed]",
      "text/plain": [
       "plot without title"
      ]
     },
     "metadata": {
      "image/png": {
       "height": 420,
       "width": 420
      }
     },
     "output_type": "display_data"
    }
   ],
   "source": [
    "# boxplot de la edad\n",
    "boxplot(datos$edad, horizontal=TRUE)\n",
    "abline(v = c(mean(datos$edad)), col = (\"red\"))"
   ]
  },
  {
   "cell_type": "markdown",
   "metadata": {},
   "source": [
    "**Sexo**"
   ]
  },
  {
   "cell_type": "code",
   "execution_count": 25,
   "metadata": {
    "vscode": {
     "languageId": "r"
    }
   },
   "outputs": [
    {
     "data": {
      "image/png": "[encoded data removed]",
      "text/plain": [
       "plot without title"
      ]
     },
     "metadata": {
      "image/png": {
       "height": 420,
       "width": 420
      }
     },
     "output_type": "display_data"
    }
   ],
   "source": [
    "barplot(table(datos$sexo))"
   ]
  },
  {
   "cell_type": "markdown",
   "metadata": {},
   "source": [
    "**Comparacion de edad y carrera**"
   ]
  },
  {
   "cell_type": "code",
   "execution_count": 26,
   "metadata": {
    "vscode": {
     "languageId": "r"
    }
   },
   "outputs": [
    {
     "data": {
      "image/png": "[encoded data removed]",
      "text/plain": [
       "plot without title"
      ]
     },
     "metadata": {
      "image/png": {
       "height": 420,
       "width": 420
      }
     },
     "output_type": "display_data"
    }
   ],
   "source": [
    "boxplot(datos$edad ~ datos$carrera, varwidth = TRUE)"
   ]
  },
  {
   "cell_type": "markdown",
   "metadata": {},
   "source": [
    "**Comparacion de dias frecuentes y carrera**"
   ]
  },
  {
   "cell_type": "code",
   "execution_count": 27,
   "metadata": {
    "vscode": {
     "languageId": "r"
    }
   },
   "outputs": [],
   "source": [
    "# mosaicplot(datos$dias, datos$carrera)\n"
   ]
  },
  {
   "cell_type": "markdown",
   "metadata": {},
   "source": [
    "**Accesibilidad de los espacios**"
   ]
  },
  {
   "cell_type": "code",
   "execution_count": 28,
   "metadata": {
    "vscode": {
     "languageId": "r"
    }
   },
   "outputs": [
    {
     "data": {
      "image/png": "[encoded data removed]",
      "text/plain": [
       "plot without title"
      ]
     },
     "metadata": {
      "image/png": {
       "height": 420,
       "width": 420
      }
     },
     "output_type": "display_data"
    }
   ],
   "source": [
    "barplot(table(datos$accesibilidad), xlab=\"calificacion\", ylab=\"frec.\")"
   ]
  },
  {
   "cell_type": "code",
   "execution_count": 29,
   "metadata": {
    "vscode": {
     "languageId": "r"
    }
   },
   "outputs": [
    {
     "data": {
      "image/png": "[encoded data removed]",
      "text/plain": [
       "plot without title"
      ]
     },
     "metadata": {
      "image/png": {
       "height": 420,
       "width": 420
      }
     },
     "output_type": "display_data"
    }
   ],
   "source": [
    "boxplot(datos$accesibilidad, horizontal = TRUE)\n",
    "abline(v = c(mean(datos$accesibilidad)), col = (\"red\"))"
   ]
  },
  {
   "cell_type": "markdown",
   "metadata": {},
   "source": [
    "**Indice de concentración**"
   ]
  },
  {
   "cell_type": "code",
   "execution_count": 15,
   "metadata": {
    "vscode": {
     "languageId": "r"
    }
   },
   "outputs": [
    {
     "data": {
      "image/png": "[encoded data removed]",
      "text/plain": [
       "plot without title"
      ]
     },
     "metadata": {
      "image/png": {
       "height": 420,
       "width": 420
      }
     },
     "output_type": "display_data"
    }
   ],
   "source": [
    "barplot(table(datos$concentracion), xlab=\"concentracion\")"
   ]
  },
  {
   "cell_type": "code",
   "execution_count": 215,
   "metadata": {
    "vscode": {
     "languageId": "r"
    }
   },
   "outputs": [
    {
     "data": {
      "image/png": "[encoded data removed]",
      "text/plain": [
       "plot without title"
      ]
     },
     "metadata": {
      "image/png": {
       "height": 420,
       "width": 420
      }
     },
     "output_type": "display_data"
    }
   ],
   "source": [
    "boxplot(datos$concentracion, horizontal=TRUE)\n",
    "abline(v = c(mean(datos$concentracion)), col = (\"red\"))"
   ]
  }
 ],
 "metadata": {
  "kernelspec": {
   "display_name": "R",
   "language": "R",
   "name": "ir"
  },
  "language_info": {
   "codemirror_mode": "r",
   "file_extension": ".r",
   "mimetype": "text/x-r-source",
   "name": "R",
   "pygments_lexer": "r",
   "version": "4.2.1"
  },
  "orig_nbformat": 4
 },
 "nbformat": 4,
 "nbformat_minor": 2
}
